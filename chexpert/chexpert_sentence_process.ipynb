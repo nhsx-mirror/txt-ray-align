{
 "cells": [
  {
   "cell_type": "code",
   "execution_count": null,
   "id": "86794942",
   "metadata": {},
   "outputs": [],
   "source": [
    "import glob\n",
    "import os\n",
    "from pathlib import Path\n",
    "\n",
    "print(os.getcwd())\n",
    "os.chdir('../')\n",
    "print(os.getcwd())"
   ]
  },
  {
   "cell_type": "code",
   "execution_count": null,
   "id": "07e46fb7",
   "metadata": {},
   "outputs": [],
   "source": [
    "import pandas as pd"
   ]
  },
  {
   "cell_type": "code",
   "execution_count": null,
   "id": "691b70f1",
   "metadata": {},
   "outputs": [],
   "source": [
    "%load_ext autoreload\n",
    "%autoreload 2"
   ]
  },
  {
   "cell_type": "code",
   "execution_count": null,
   "id": "fd6aaff4",
   "metadata": {},
   "outputs": [],
   "source": [
    "from src.ChexpertLabeler.loader import Loader\n",
    "from src.ChexpertLabeler.stages import Aggregator, Classifier, Extractor"
   ]
  },
  {
   "cell_type": "code",
   "execution_count": null,
   "id": "79343d69",
   "metadata": {},
   "outputs": [],
   "source": [
    "root_loc = './'\n",
    "file_in = 'sample_reports.csv'"
   ]
  },
  {
   "cell_type": "code",
   "execution_count": null,
   "id": "263acd80",
   "metadata": {},
   "outputs": [],
   "source": [
    "loader = Loader(\n",
    "    reports_path=Path(root_loc + file_in),\n",
    "    # extract_impression=True,\n",
    ")\n",
    "\n",
    "loader.load()"
   ]
  },
  {
   "cell_type": "code",
   "execution_count": null,
   "id": "7f60c76e",
   "metadata": {},
   "outputs": [],
   "source": [
    "loader.collection.documents[0]"
   ]
  },
  {
   "cell_type": "code",
   "execution_count": null,
   "id": "630ea48c",
   "metadata": {
    "scrolled": true
   },
   "outputs": [],
   "source": [
    "# loader.collection"
   ]
  },
  {
   "cell_type": "code",
   "execution_count": null,
   "id": "b48f5e81",
   "metadata": {},
   "outputs": [],
   "source": [
    "extractor = Extractor(\n",
    "    mention_phrases_dir=Path('./phrases/mention/'),\n",
    "    unmention_phrases_dir=Path('./phrases/unmention/'),\n",
    "    verbose=True,\n",
    ")"
   ]
  },
  {
   "cell_type": "code",
   "execution_count": null,
   "id": "5adebe2d",
   "metadata": {},
   "outputs": [],
   "source": [
    "extractor.extract(loader.collection)"
   ]
  },
  {
   "cell_type": "code",
   "execution_count": null,
   "id": "27c59cfe",
   "metadata": {},
   "outputs": [],
   "source": [
    "classifier = Classifier(\n",
    "    pre_negation_uncertainty_path='./patterns/pre_negation_uncertainty.txt',\n",
    "    negation_path='./patterns/negation.txt',\n",
    "    post_negation_uncertainty_path='./patterns/post_negation_uncertainty.txt',\n",
    "    verbose=True\n",
    ")"
   ]
  },
  {
   "cell_type": "code",
   "execution_count": null,
   "id": "e8b1690e",
   "metadata": {},
   "outputs": [],
   "source": [
    "classifier.classify(loader.collection)"
   ]
  },
  {
   "cell_type": "code",
   "execution_count": null,
   "id": "65d69f6a",
   "metadata": {},
   "outputs": [],
   "source": [
    "CATEGORIES = [\n",
    "    \"No Finding\", \n",
    "    \"Enlarged Cardiomediastinum\", \n",
    "    \"Cardiomegaly\",\n",
    "    \"Lung Lesion\", \n",
    "    \"Lung Opacity\", \n",
    "    \"Edema\", \n",
    "    \"Consolidation\",\n",
    "    \"Pneumonia\", \n",
    "    \"Atelectasis\", \n",
    "    \"Pneumothorax\", \n",
    "    \"Pleural Effusion\",\n",
    "    \"Pleural Other\", \n",
    "    \"Fracture\", \n",
    "    \"Support Devices\"\n",
    "]"
   ]
  },
  {
   "cell_type": "code",
   "execution_count": null,
   "id": "ed8e65dd",
   "metadata": {},
   "outputs": [],
   "source": [
    "aggregator = Aggregator(\n",
    "    CATEGORIES,\n",
    "    verbose=True\n",
    ")"
   ]
  },
  {
   "cell_type": "code",
   "execution_count": null,
   "id": "aeec3809",
   "metadata": {},
   "outputs": [],
   "source": [
    "labels = aggregator.aggregate(loader.collection)"
   ]
  },
  {
   "cell_type": "code",
   "execution_count": null,
   "id": "3729e066",
   "metadata": {},
   "outputs": [],
   "source": [
    "labels_sents = aggregator.aggregate_with_sentence(loader.collection)"
   ]
  },
  {
   "cell_type": "code",
   "execution_count": null,
   "id": "0c77e4cd",
   "metadata": {},
   "outputs": [],
   "source": [
    "# long with doc, sentence, and label, able to group by sentence..."
   ]
  },
  {
   "cell_type": "code",
   "execution_count": null,
   "id": "2abe3631",
   "metadata": {},
   "outputs": [],
   "source": [
    "labeled_reports = pd.DataFrame({\"Reports\": loader.reports})\n",
    "for index, category in enumerate(CATEGORIES):\n",
    "    labeled_reports[category] = labels[:, index]\n",
    "    \n",
    "labeled_reports"
   ]
  },
  {
   "cell_type": "code",
   "execution_count": null,
   "id": "c02df7c0",
   "metadata": {},
   "outputs": [],
   "source": [
    "%%time\n",
    "df_long = pd.DataFrame(columns=['id', 'cat', 'vals', 'sents'])\n",
    "\n",
    "for index, entry in enumerate(labels_sents):\n",
    "    for ent, vals in entry.items():\n",
    "        for val in vals:\n",
    "            df_long = df_long.append(\n",
    "                {\n",
    "                    'id': index, \n",
    "                    'cat': ent, \n",
    "                    'vals': val[0],\n",
    "                    'sents': val[1],\n",
    "                }, ignore_index=True\n",
    "            )\n",
    "\n",
    "df_long.head()"
   ]
  },
  {
   "cell_type": "code",
   "execution_count": null,
   "id": "bb2627d6",
   "metadata": {},
   "outputs": [],
   "source": [
    "df_long.vals.value_counts()"
   ]
  },
  {
   "cell_type": "code",
   "execution_count": null,
   "id": "8ce1ab63",
   "metadata": {},
   "outputs": [],
   "source": [
    "df_long.shape"
   ]
  },
  {
   "cell_type": "code",
   "execution_count": null,
   "id": "252a22db",
   "metadata": {},
   "outputs": [],
   "source": [
    "df_long['id'] = df_long['id'].astype(int)"
   ]
  },
  {
   "cell_type": "code",
   "execution_count": null,
   "id": "5deb21d8",
   "metadata": {
    "scrolled": false
   },
   "outputs": [],
   "source": [
    "df_reports = pd.read_csv(root_loc + file_in, header=None).reset_index()\n",
    "\n",
    "df_reports"
   ]
  },
  {
   "cell_type": "code",
   "execution_count": null,
   "id": "68c60148",
   "metadata": {},
   "outputs": [],
   "source": [
    "df_out = df_reports.merge(df_long, left_on='index', right_on='id', how='left')\n",
    "\n",
    "df_out = df_out.drop(['id', 'index'], axis=1).rename(\n",
    "    {\n",
    "        0: 'mimic_id',\n",
    "        1: 'report',\n",
    "    }, axis=1\n",
    ")\n",
    "\n",
    "df_out"
   ]
  },
  {
   "cell_type": "code",
   "execution_count": null,
   "id": "922314ec",
   "metadata": {},
   "outputs": [],
   "source": [
    "df_out.to_csv('./data/mimic_processed/' + 'sents_' + file_in, index=False)"
   ]
  }
 ],
 "metadata": {
  "kernelspec": {
   "display_name": "Python 3.9.12 64-bit",
   "language": "python",
   "name": "python3"
  },
  "language_info": {
   "codemirror_mode": {
    "name": "ipython",
    "version": 3
   },
   "file_extension": ".py",
   "mimetype": "text/x-python",
   "name": "python",
   "nbconvert_exporter": "python",
   "pygments_lexer": "ipython3",
   "version": "3.9.12"
  },
  "vscode": {
   "interpreter": {
    "hash": "aee8b7b246df8f9039afb4144a1f6fd8d2ca17a180786b69acc140d282b71a49"
   }
  }
 },
 "nbformat": 4,
 "nbformat_minor": 5
}
