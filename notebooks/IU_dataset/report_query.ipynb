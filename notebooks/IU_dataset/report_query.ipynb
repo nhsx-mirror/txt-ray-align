{
 "cells": [
  {
   "cell_type": "code",
   "execution_count": null,
   "id": "b6b6b661",
   "metadata": {},
   "outputs": [],
   "source": [
    "# Query report stucture for impression / findings for each output of IU data and MIMIC"
   ]
  },
  {
   "cell_type": "code",
   "execution_count": null,
   "id": "d88f91f2",
   "metadata": {},
   "outputs": [],
   "source": [
    "import glob\n",
    "\n",
    "import pandas as pd"
   ]
  },
  {
   "cell_type": "code",
   "execution_count": null,
   "id": "b8bfeba7",
   "metadata": {},
   "outputs": [],
   "source": [
    "# IU DATA\n",
    "IU_chex_impression_findings_loc = \".\\sents_iu_reports_clean.csv\"\n",
    "\n",
    "clean_reports_loc = \"./\""
   ]
  },
  {
   "cell_type": "code",
   "execution_count": null,
   "id": "d154f932",
   "metadata": {},
   "outputs": [],
   "source": [
    "# read in IU chexpert lables for impression + findings\n",
    "data_IU_chex = pd.read_csv(IU_chex_impression_findings_loc)\n",
    "data_IU_chex"
   ]
  },
  {
   "cell_type": "code",
   "execution_count": null,
   "id": "16219df5",
   "metadata": {},
   "outputs": [],
   "source": [
    "# look up a specific id\n",
    "ID_CHOICE = \"CXR<...>\"\n",
    "\n",
    "data_IU_chex.loc[data_IU_chex[\"mimic_id\"] == ID_CHOICE]"
   ]
  },
  {
   "cell_type": "code",
   "execution_count": null,
   "id": "37140347",
   "metadata": {},
   "outputs": [],
   "source": [
    "# count the commonest chexpert labels\n",
    "data_IU_chex[\"cat\"].value_counts()"
   ]
  },
  {
   "cell_type": "code",
   "execution_count": null,
   "id": "00fcaed2",
   "metadata": {},
   "outputs": [],
   "source": [
    "# select chexpert lables that are negative\n",
    "negatives = data_IU_chex.loc[data_IU_chex[\"vals\"] == 0.0]\n",
    "print(negatives)"
   ]
  },
  {
   "cell_type": "code",
   "execution_count": null,
   "id": "43a48f9f",
   "metadata": {},
   "outputs": [],
   "source": [
    "# count commones negative values\n",
    "negatives[\"cat\"].value_counts()"
   ]
  },
  {
   "cell_type": "code",
   "execution_count": null,
   "id": "e7a8a5bf",
   "metadata": {},
   "outputs": [],
   "source": [
    "# select chexpert lables that are positive\n",
    "positives = data_IU_chex.loc[data_IU_chex[\"vals\"] == 1.0]\n",
    "print(positives)"
   ]
  },
  {
   "cell_type": "code",
   "execution_count": null,
   "id": "f7f151d9",
   "metadata": {},
   "outputs": [],
   "source": [
    "# count commones positive values\n",
    "positives[\"cat\"].value_counts()"
   ]
  },
  {
   "cell_type": "code",
   "execution_count": null,
   "id": "64c9d9cc",
   "metadata": {},
   "outputs": [],
   "source": [
    "# keep one output from each patient\n",
    "df1 = data_IU_chex.drop_duplicates(subset=\"mimic_id\", keep=\"first\")\n",
    "df1"
   ]
  },
  {
   "cell_type": "code",
   "execution_count": null,
   "id": "add116c5",
   "metadata": {},
   "outputs": [],
   "source": [
    "# read in IU chexpert lables for impression + findings\n",
    "data_IU = pd.read_csv(clean_reports_loc + \"reports_clean.csv\", header=None)\n",
    "data_IU"
   ]
  },
  {
   "cell_type": "code",
   "execution_count": null,
   "id": "900e705b",
   "metadata": {},
   "outputs": [],
   "source": [
    "# MIMIC DATA\n",
    "mimic_experiment_loc = \"./\"\n",
    "mimic_reports_loc = \"./\"\n",
    "mimic_chex_loc = \"./\""
   ]
  },
  {
   "cell_type": "code",
   "execution_count": null,
   "id": "6a935da7",
   "metadata": {},
   "outputs": [],
   "source": [
    "# read in train data\n",
    "train = pd.read_csv(mimic_experiment_loc + \"train.csv\")\n",
    "train.head()"
   ]
  },
  {
   "cell_type": "code",
   "execution_count": null,
   "id": "25054797",
   "metadata": {},
   "outputs": [],
   "source": [
    "# read in validation data\n",
    "val = pd.read_csv(mimic_experiment_loc + \"val.csv\")\n",
    "val.head()"
   ]
  },
  {
   "cell_type": "code",
   "execution_count": null,
   "id": "b1920876",
   "metadata": {},
   "outputs": [],
   "source": [
    "# read in test data\n",
    "test = pd.read_csv(mimic_experiment_loc + \"test.csv\")\n",
    "test.head()"
   ]
  },
  {
   "cell_type": "code",
   "execution_count": null,
   "id": "1da2a806",
   "metadata": {},
   "outputs": [],
   "source": [
    "# read in all of sectioned reports\n",
    "impression_findings = glob.glob(mimic_reports_loc + \"*.csv\")\n",
    "sectioned_reports = pd.concat(\n",
    "    (pd.read_csv(f, header=None) for f in impression_findings)\n",
    ")\n",
    "sectioned_reports"
   ]
  },
  {
   "cell_type": "code",
   "execution_count": null,
   "id": "88218c94",
   "metadata": {},
   "outputs": [],
   "source": [
    "# rename columns\n",
    "sectioned_reports.columns = [\"id\", \"report\"]"
   ]
  },
  {
   "cell_type": "code",
   "execution_count": null,
   "id": "aed1f1be",
   "metadata": {},
   "outputs": [],
   "source": [
    "# read in all chexpert lables\n",
    "interesting_files = glob.glob(mimic_chex_loc + \"*.csv\")\n",
    "chex = pd.concat((pd.read_csv(f, header=0) for f in interesting_files))\n",
    "chex.head()"
   ]
  },
  {
   "cell_type": "code",
   "execution_count": null,
   "id": "0b972322",
   "metadata": {
    "scrolled": true
   },
   "outputs": [],
   "source": [
    "# read pickle file as dataframe from experiment\n",
    "experiment_loc = \"./\"\n",
    "\n",
    "df = pd.read_pickle(experiment_loc + \"0.pkl\")\n",
    "# print the dataframe\n",
    "print(df)"
   ]
  },
  {
   "cell_type": "code",
   "execution_count": null,
   "id": "160663b2",
   "metadata": {},
   "outputs": [],
   "source": [
    "# end of script"
   ]
  }
 ],
 "metadata": {
  "kernelspec": {
   "display_name": "Python 3",
   "language": "python",
   "name": "python3"
  },
  "language_info": {
   "codemirror_mode": {
    "name": "ipython",
    "version": 3
   },
   "file_extension": ".py",
   "mimetype": "text/x-python",
   "name": "python",
   "nbconvert_exporter": "python",
   "pygments_lexer": "ipython3",
   "version": "3.11.2"
  },
  "vscode": {
   "interpreter": {
    "hash": "aee8b7b246df8f9039afb4144a1f6fd8d2ca17a180786b69acc140d282b71a49"
   }
  }
 },
 "nbformat": 4,
 "nbformat_minor": 5
}
