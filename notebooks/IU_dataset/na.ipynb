{
 "cells": [
  {
   "cell_type": "code",
   "execution_count": null,
   "id": "6d58adfa",
   "metadata": {},
   "outputs": [],
   "source": [
    "# check NA / NANS in the chexpert lables\n",
    "# in IU data"
   ]
  },
  {
   "cell_type": "code",
   "execution_count": null,
   "id": "0221412a",
   "metadata": {},
   "outputs": [],
   "source": [
    "import pandas as pd"
   ]
  },
  {
   "cell_type": "code",
   "execution_count": null,
   "id": "b62f5dc5",
   "metadata": {},
   "outputs": [],
   "source": [
    "# IU data chexpert - impression labels location\n",
    "IU_chex_impression_loc = \"./sents_iu_reports_impression.csv\"\n",
    "\n",
    "# IU data report - impression labels location\n",
    "IU_report_impression_loc = \"./reports_impression.csv\"\n",
    "\n",
    "# IU data chexpert labels - inc. findings labels location\n",
    "IU_chex_impression_findings_loc = \"./sents_iu_reports_clean.csv\"\n",
    "\n",
    "# IU data reports labels - inc. findings labels location\n",
    "IU_report_impression_findings_loc = \"./reports.csv\""
   ]
  },
  {
   "cell_type": "code",
   "execution_count": null,
   "id": "9c6d6a83",
   "metadata": {},
   "outputs": [],
   "source": [
    "# read in IU data chexpert labels - impression\n",
    "IU_chex_impression = pd.read_csv(IU_chex_impression_loc)\n",
    "IU_chex_impression.head()"
   ]
  },
  {
   "cell_type": "code",
   "execution_count": null,
   "id": "68099b52",
   "metadata": {},
   "outputs": [],
   "source": [
    "print(IU_chex_impression[\"mimic_id\"].isnull().sum())\n",
    "print(IU_chex_impression[\"sents\"].isnull().sum())\n",
    "print(IU_chex_impression[\"report\"].isnull().sum())\n",
    "print(IU_chex_impression[\"cat\"].isnull().sum())\n",
    "print(IU_chex_impression[\"vals\"].isnull().sum())"
   ]
  },
  {
   "cell_type": "code",
   "execution_count": null,
   "id": "a10f54bd",
   "metadata": {},
   "outputs": [],
   "source": [
    "na_cases = IU_chex_impression[IU_chex_impression[\"sents\"].isnull()]\n",
    "na_cases = na_cases.assign(na=1)\n",
    "\n",
    "na_cases"
   ]
  },
  {
   "cell_type": "code",
   "execution_count": null,
   "id": "739a3531",
   "metadata": {},
   "outputs": [],
   "source": [
    "IU_chex_impression_nona = IU_chex_impression.dropna()\n",
    "IU_chex_impression_nona = IU_chex_impression_nona[\n",
    "    [\"index\", \"mimic_id\", \"report\", \"cat\", \"vals\", \"sents\"]\n",
    "]"
   ]
  },
  {
   "cell_type": "code",
   "execution_count": null,
   "id": "00c4830a",
   "metadata": {},
   "outputs": [],
   "source": [
    "IU_chex_impression_nona.to_csv(\"./IU_chex_impression_nona.csv\", index=None)"
   ]
  },
  {
   "cell_type": "code",
   "execution_count": null,
   "id": "18026e0e",
   "metadata": {
    "scrolled": true
   },
   "outputs": [],
   "source": [
    "# read in IU data chexpert labels - impression\n",
    "IU_report_impression = pd.read_csv(IU_report_impression_loc, header=None)\n",
    "IU_report_impression.head()"
   ]
  },
  {
   "cell_type": "code",
   "execution_count": null,
   "id": "c593f4ee",
   "metadata": {},
   "outputs": [],
   "source": [
    "IU_report_impression.columns = [\"mimic_id\", \"impression\"]\n",
    "IU_report_impression"
   ]
  },
  {
   "cell_type": "code",
   "execution_count": null,
   "id": "0e9175fe",
   "metadata": {},
   "outputs": [],
   "source": [
    "print(IU_report_impression[\"mimic_id\"].isnull().sum())\n",
    "print(IU_report_impression[\"impression\"].isnull().sum())"
   ]
  },
  {
   "cell_type": "code",
   "execution_count": null,
   "id": "7d040173",
   "metadata": {},
   "outputs": [],
   "source": [
    "IU_report_impression_nona = pd.merge(\n",
    "    left=IU_report_impression, right=na_cases, how=\"left\", on=\"mimic_id\"\n",
    ")\n",
    "IU_report_impression_nona = IU_report_impression_nona[IU_report_impression_nona.na != 1]\n",
    "IU_report_impression_nona = IU_report_impression_nona[[\"mimic_id\", \"impression\"]]"
   ]
  },
  {
   "cell_type": "code",
   "execution_count": null,
   "id": "977ba4f7",
   "metadata": {},
   "outputs": [],
   "source": [
    "IU_report_impression_nona.to_csv(\n",
    "    \"./IU_report_impression_nona.csv\", header=False, index=False\n",
    ")"
   ]
  },
  {
   "cell_type": "code",
   "execution_count": null,
   "id": "416fa724",
   "metadata": {},
   "outputs": [],
   "source": [
    "# read in IU data chexpert labels - impression\n",
    "IU_chex_impression_findings = pd.read_csv(IU_chex_impression_findings_loc)\n",
    "IU_chex_impression_findings.head()"
   ]
  },
  {
   "cell_type": "code",
   "execution_count": null,
   "id": "76ebd39e",
   "metadata": {},
   "outputs": [],
   "source": [
    "print(IU_chex_impression_findings[\"mimic_id\"].isnull().sum())\n",
    "print(IU_chex_impression_findings[\"sents\"].isnull().sum())\n",
    "print(IU_chex_impression_findings[\"report\"].isnull().sum())\n",
    "print(IU_chex_impression_findings[\"cat\"].isnull().sum())\n",
    "print(IU_chex_impression_findings[\"vals\"].isnull().sum())"
   ]
  },
  {
   "cell_type": "code",
   "execution_count": null,
   "id": "5aab7075",
   "metadata": {},
   "outputs": [],
   "source": [
    "na_cases = IU_chex_impression_findings[IU_chex_impression_findings[\"sents\"].isnull()]\n",
    "na_cases = na_cases.assign(na=1)\n",
    "\n",
    "na_cases"
   ]
  },
  {
   "cell_type": "code",
   "execution_count": null,
   "id": "84fe25e5",
   "metadata": {},
   "outputs": [],
   "source": [
    "IU_chex_impression_findings_nona = IU_chex_impression_findings.dropna()\n",
    "IU_chex_impression_findings_nona = IU_chex_impression_findings_nona[\n",
    "    [\"index\", \"mimic_id\", \"report\", \"cat\", \"vals\", \"sents\"]\n",
    "]"
   ]
  },
  {
   "cell_type": "code",
   "execution_count": null,
   "id": "50b9fe7e",
   "metadata": {},
   "outputs": [],
   "source": [
    "IU_chex_impression_findings_nona.to_csv(\n",
    "    \"E:/IU_data/chex/NA/IU_chex_impression_findings_nona.csv\", index=None\n",
    ")"
   ]
  },
  {
   "cell_type": "code",
   "execution_count": null,
   "id": "c28942f2",
   "metadata": {},
   "outputs": [],
   "source": [
    "# read in IU data chexpert labels - impression\n",
    "IU_report_impression_findings = pd.read_csv(\n",
    "    IU_report_impression_findings_loc, header=None\n",
    ")\n",
    "IU_report_impression_findings.head()"
   ]
  },
  {
   "cell_type": "code",
   "execution_count": null,
   "id": "561f7867",
   "metadata": {
    "scrolled": true
   },
   "outputs": [],
   "source": [
    "IU_report_impression_findings.columns = [\"mimic_id\", \"impression_findings\"]\n",
    "IU_report_impression_findings"
   ]
  },
  {
   "cell_type": "code",
   "execution_count": null,
   "id": "ce49e6b4",
   "metadata": {},
   "outputs": [],
   "source": [
    "IU_report_impression_findings_nona = pd.merge(\n",
    "    left=IU_report_impression_findings, right=na_cases, how=\"left\", on=\"mimic_id\"\n",
    ")\n",
    "IU_report_impression_findings_nona = IU_report_impression_findings_nona[\n",
    "    IU_report_impression_findings_nona.na != 1\n",
    "]\n",
    "IU_report_impression_findings_nona = IU_report_impression_findings_nona[\n",
    "    [\"mimic_id\", \"impression_findings\"]\n",
    "]"
   ]
  },
  {
   "cell_type": "code",
   "execution_count": null,
   "id": "4eb930f2",
   "metadata": {},
   "outputs": [],
   "source": [
    "IU_report_impression_findings_nona.to_csv(\n",
    "    \"./IU_report_impression_findings_nona.csv\", header=False, index=False\n",
    ")"
   ]
  },
  {
   "cell_type": "code",
   "execution_count": null,
   "id": "46a20c27",
   "metadata": {},
   "outputs": [],
   "source": [
    "print(IU_report_impression_findings[\"mimic_id\"].isnull().sum())\n",
    "print(IU_report_impression_findings[\"impression_findings\"].isnull().sum())"
   ]
  }
 ],
 "metadata": {
  "kernelspec": {
   "display_name": "Python 3",
   "language": "python",
   "name": "python3"
  },
  "language_info": {
   "codemirror_mode": {
    "name": "ipython",
    "version": 3
   },
   "file_extension": ".py",
   "mimetype": "text/x-python",
   "name": "python",
   "nbconvert_exporter": "python",
   "pygments_lexer": "ipython3",
   "version": "3.11.2"
  },
  "vscode": {
   "interpreter": {
    "hash": "aee8b7b246df8f9039afb4144a1f6fd8d2ca17a180786b69acc140d282b71a49"
   }
  }
 },
 "nbformat": 4,
 "nbformat_minor": 5
}
