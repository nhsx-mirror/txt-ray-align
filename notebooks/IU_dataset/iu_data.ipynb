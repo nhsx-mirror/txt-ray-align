{
 "cells": [
  {
   "cell_type": "code",
   "execution_count": null,
   "id": "c1fa7367",
   "metadata": {},
   "outputs": [],
   "source": [
    "# IU data set curation into the same strcture as Mimic\n",
    "\n",
    "# The IU dataset was downloaded from:\n",
    "# https://openi.nlm.nih.gov/imgs/collections/NLMCXR_png.tgz\n",
    "# https://openi.nlm.nih.gov/imgs/collections/NLMCXR_reports.tgz\n",
    "# or use the API\n",
    "\n",
    "# Parts of this notebook have been adapted from the following sources:\n",
    "# https://www.kaggle.com/code/kundnjha/analysis-of-chest-x-rays-indiana-university/notebook"
   ]
  },
  {
   "cell_type": "code",
   "execution_count": null,
   "id": "ca49058c",
   "metadata": {},
   "outputs": [],
   "source": [
    "!python -m pip install beautifulsoup4 lxml matplotlib opencv-python seaborn tqdm wordcloud"
   ]
  },
  {
   "cell_type": "code",
   "execution_count": null,
   "id": "244b4d3c",
   "metadata": {},
   "outputs": [],
   "source": [
    "# Load required packages\n",
    "import os\n",
    "import re\n",
    "import shutil\n",
    "import warnings\n",
    "from collections import Counter\n",
    "\n",
    "import cv2\n",
    "import lxml\n",
    "import numpy as np\n",
    "import pandas as pd\n",
    "import seaborn as sns\n",
    "from PIL import Image\n",
    "from tqdm import tqdm\n",
    "\n",
    "sns.set_style(\"whitegrid\")\n",
    "import matplotlib.image as mpimg\n",
    "import matplotlib.pyplot as plt\n",
    "from bs4 import BeautifulSoup\n",
    "\n",
    "warnings.filterwarnings(\"ignore\")\n",
    "import xml.etree.ElementTree as ET\n",
    "\n",
    "from wordcloud import WordCloud"
   ]
  },
  {
   "cell_type": "code",
   "execution_count": null,
   "id": "022d5c8e",
   "metadata": {},
   "outputs": [],
   "source": [
    "REPORTS_LOC = \"../data/xray_reports\"\n",
    "IMAGES_LOC = \"../data/xray_images\""
   ]
  },
  {
   "cell_type": "code",
   "execution_count": null,
   "id": "d5645ac1",
   "metadata": {},
   "outputs": [],
   "source": [
    "# Check the number of images and reports from downloaded data\n",
    "\n",
    "print(\"Total Images in data : \", len(os.listdir(IMAGES_LOC)))\n",
    "print(\"Total Reports in data : \", len(os.listdir(REPORTS_LOC)))"
   ]
  },
  {
   "cell_type": "code",
   "execution_count": null,
   "id": "029a8264",
   "metadata": {},
   "outputs": [],
   "source": [
    "# List of count of images and reports pairs\n",
    "\n",
    "img_count = []\n",
    "for file in os.listdir(REPORTS_LOC):\n",
    "    xml_file = os.path.join(REPORTS_LOC, file)\n",
    "    # reading the xml data\n",
    "    with open(xml_file, \"r\") as f:\n",
    "        data = f.read()\n",
    "    # getting all the image names\n",
    "    regex = r\"parentImage id.*\"\n",
    "    k = re.findall(regex, data)\n",
    "    temp = len(k)\n",
    "    img_count.append(temp)\n",
    "\n",
    "print(\"The max number of images associated with a report:\", np.array(img_count).max())\n",
    "print(\"The min number of images associated with a report:\", np.array(img_count).min())"
   ]
  },
  {
   "cell_type": "code",
   "execution_count": null,
   "id": "2e9df9f6",
   "metadata": {},
   "outputs": [],
   "source": [
    "# Plot the above image counts\n",
    "\n",
    "plt.figure(figsize=(6, 5))\n",
    "ax = pd.Series(img_count).plot(kind=\"hist\", color=\"blue\")\n",
    "ax.set_xlabel(\"Number of images associated with report\")\n",
    "ax.set_title(\"Frequency VS Number of images associated with report\")\n",
    "plt.show()"
   ]
  },
  {
   "cell_type": "code",
   "execution_count": null,
   "id": "0a1006ee",
   "metadata": {},
   "outputs": [],
   "source": [
    "# Print the number of exact image counts per patient\n",
    "\n",
    "print(\"Images per patient :\\n\")\n",
    "print(pd.Series(img_count).value_counts())"
   ]
  },
  {
   "cell_type": "code",
   "execution_count": null,
   "id": "2f1a5004",
   "metadata": {},
   "outputs": [],
   "source": [
    "# Extract headings from report xml files and save into a dataframe\n",
    "# Reference : https://stackoverflow.com/questions/2723015/how-to-find-recursively-for-a-tag-of-xml-using-lxml\n",
    "\n",
    "columns = [\n",
    "    \"image_name\",\n",
    "    \"image_caption\",\n",
    "    \"comparison\",\n",
    "    \"indication\",\n",
    "    \"findings\",\n",
    "    \"impression\",\n",
    "    \"mesh\",\n",
    "]\n",
    "report_df = pd.DataFrame(columns=columns)\n",
    "for file in tqdm(os.listdir(REPORTS_LOC)):\n",
    "    # find files with .xml extension only\n",
    "    if file.endswith(\".xml\"):\n",
    "        # finding root element\n",
    "        tree = ET.parse(REPORTS_LOC + \"/\" + file)  # parse the xml file\n",
    "\n",
    "        findings = tree.find(\".//AbstractText[@Label='FINDINGS']\").text\n",
    "        indication = tree.find(\".//AbstractText[@Label='INDICATION']\").text\n",
    "        comparision = tree.find(\".//AbstractText[@Label='COMPARISON']\").text\n",
    "        impression = tree.find(\".//AbstractText[@Label='IMPRESSION']\").text\n",
    "\n",
    "        caption = set()\n",
    "        name_img = set()\n",
    "        # find images in each parentImage tag\n",
    "        for iterator in tree.findall(\"parentImage\"):\n",
    "            img = iterator.attrib[\"id\"] + \".png\"\n",
    "            name_img.add(img)\n",
    "            # add the corresponding report for each image\n",
    "            caption.add(\n",
    "                \"\"\n",
    "                if iterator.find(\"caption\").text is None\n",
    "                else iterator.find(\"caption\").text\n",
    "            )\n",
    "\n",
    "        mesh = set()\n",
    "        # find images in each parentImage tag\n",
    "        for iterator in tree.findall(\"MeSH\"):\n",
    "            mesh.add(\n",
    "                \"\"\n",
    "                if iterator.find(\"major\").text is None\n",
    "                else iterator.find(\"major\").text\n",
    "            )\n",
    "\n",
    "        # add image details and reports to dataframe\n",
    "        report_df = report_df.append(\n",
    "            pd.Series(\n",
    "                [\n",
    "                    \",\".join(name_img),\n",
    "                    \",\".join(caption),\n",
    "                    comparision,\n",
    "                    indication,\n",
    "                    findings,\n",
    "                    impression,\n",
    "                    \",\".join(mesh),\n",
    "                ],\n",
    "                index=columns,\n",
    "            ),\n",
    "            ignore_index=True,\n",
    "        )"
   ]
  },
  {
   "cell_type": "code",
   "execution_count": null,
   "id": "4ec91d86",
   "metadata": {},
   "outputs": [],
   "source": [
    "# Show the dataframe created in the above cell\n",
    "\n",
    "report_df.head()"
   ]
  },
  {
   "cell_type": "code",
   "execution_count": null,
   "id": "65fa9030",
   "metadata": {},
   "outputs": [],
   "source": [
    "# Add a column for the number of images per case\n",
    "\n",
    "report_df[\"image_count\"] = report_df[\"image_name\"].astype(str).str.split(\",\").apply(len)\n",
    "report_df.head()"
   ]
  },
  {
   "cell_type": "code",
   "execution_count": null,
   "id": "9af610c0",
   "metadata": {},
   "outputs": [],
   "source": [
    "# Seperate each image onto a seperate line in new dataframe df1\n",
    "\n",
    "report_df.image_name = report_df.image_name.str.split(\",\")\n",
    "report_df_explode = report_df.explode(\"image_name\")"
   ]
  },
  {
   "cell_type": "code",
   "execution_count": null,
   "id": "33d4584d",
   "metadata": {},
   "outputs": [],
   "source": [
    "report_df_explode.head()"
   ]
  },
  {
   "cell_type": "code",
   "execution_count": null,
   "id": "73c801b7",
   "metadata": {},
   "outputs": [],
   "source": [
    "# Add new column for the id of each case taken from the first letters of the image name\n",
    "\n",
    "report_df_explode[\"id\"] = report_df_explode[\"image_name\"].str.extract(r\"^([^_]+)\")\n",
    "report_df_explode.head()"
   ]
  },
  {
   "cell_type": "code",
   "execution_count": null,
   "id": "9a41f635",
   "metadata": {},
   "outputs": [],
   "source": [
    "# Find NA values in reports\n",
    "\n",
    "NaNs = report_df_explode.isnull().sum()\n",
    "print(\"Total Nan Values in caption columns -\", NaNs[1])\n",
    "print(\"Total Nan Values in comparison columns -\", NaNs[2])\n",
    "print(\"Total Nan Values in Indication columns -\", NaNs[3])\n",
    "print(\"Total Nan Values in findings columns   -\", NaNs[4])\n",
    "print(\"Total Nan Values in Impression columns -\", NaNs[5])"
   ]
  },
  {
   "cell_type": "code",
   "execution_count": null,
   "id": "218f7ffa",
   "metadata": {},
   "outputs": [],
   "source": [
    "# Replacing the nan values in reports if missing\n",
    "\n",
    "report_df_explode[\"image_caption\"] = report_df_explode[\"image_caption\"].fillna(\n",
    "    \"Unknown\"\n",
    ")\n",
    "report_df_explode[\"comparison\"] = report_df_explode[\"comparison\"].fillna(\n",
    "    \"No Comparison\"\n",
    ")\n",
    "report_df_explode[\"indication\"] = report_df_explode[\"indication\"].fillna(\n",
    "    \"No Indication\"\n",
    ")\n",
    "report_df_explode[\"findings\"] = report_df_explode[\"findings\"].fillna(\"No Findings\")\n",
    "report_df_explode[\"impression\"] = report_df_explode[\"impression\"].fillna(\n",
    "    \"No Impression\"\n",
    ")"
   ]
  },
  {
   "cell_type": "code",
   "execution_count": null,
   "id": "864b12ef",
   "metadata": {},
   "outputs": [],
   "source": [
    "# Check the changes to NA values\n",
    "\n",
    "NaNs_filled = report_df_explode.isnull().sum()\n",
    "print(\"Total Nan Values in caption columns -\", NaNs_filled[1])\n",
    "print(\"Total Nan Values in comparison columns -\", NaNs_filled[2])\n",
    "print(\"Total Nan Values in Indication columns -\", NaNs_filled[3])\n",
    "print(\"Total Nan Values in findings columns   -\", NaNs_filled[4])\n",
    "print(\"Total Nan Values in Impression columns -\", NaNs_filled[5])"
   ]
  },
  {
   "cell_type": "code",
   "execution_count": null,
   "id": "327357a1",
   "metadata": {},
   "outputs": [],
   "source": [
    "# Replace XX values to __ like in MIMIC\n",
    "\n",
    "\n",
    "def preprocess_text(data):  # https://regex101.com/\n",
    "    \"\"\"\n",
    "    extracts the information data from the xml file and does text preprocessing on them\n",
    "    here info can be 1 value in this list [\"COMPARISON\",\"INDICATION\",\"FINDINGS\",\"IMPRESSION\"]\n",
    "    \"\"\"\n",
    "    preprocessed = []\n",
    "\n",
    "    for sentence in tqdm(data.values):\n",
    "\n",
    "        sentence = BeautifulSoup(sentence, \"lxml\").get_text()\n",
    "\n",
    "        regex = r\"XX+\"\n",
    "        sentence = re.sub(regex, \"___\", sentence)  # removing words like XXXX\n",
    "\n",
    "        if (\n",
    "            sentence == \"\"\n",
    "        ):  # if the resulting sentence is an empty string return null value\n",
    "            sentence = np.nan\n",
    "        preprocessed.append(sentence)\n",
    "    return preprocessed"
   ]
  },
  {
   "cell_type": "code",
   "execution_count": null,
   "id": "627c251e",
   "metadata": {},
   "outputs": [],
   "source": [
    "# Apply preprocessing to reports\n",
    "\n",
    "report_df_explode[\"image_caption\"] = preprocess_text(report_df_explode[\"image_caption\"])\n",
    "report_df_explode[\"comparison\"] = preprocess_text(report_df_explode[\"comparison\"])\n",
    "report_df_explode[\"indication\"] = preprocess_text(report_df_explode[\"indication\"])\n",
    "report_df_explode[\"findings\"] = preprocess_text(report_df_explode[\"findings\"])\n",
    "report_df_explode[\"impression\"] = preprocess_text(report_df_explode[\"impression\"])\n",
    "\n",
    "report_df_explode.head()"
   ]
  },
  {
   "cell_type": "code",
   "execution_count": null,
   "id": "3c83bb70",
   "metadata": {},
   "outputs": [],
   "source": [
    "# Find and remove empty cells with no images\n",
    "\n",
    "report_df_explode.replace(\"\", float(\"NaN\"), inplace=True)\n",
    "print(report_df_explode.isnull().sum() * 100 / report_df_explode.shape[0])\n",
    "print()\n",
    "report_df_explode.dropna(subset=[\"image_name\"], inplace=True)\n",
    "print(report_df_explode.isnull().sum() * 100 / report_df_explode.shape[0])\n",
    "report_df_explode.shape"
   ]
  },
  {
   "cell_type": "code",
   "execution_count": null,
   "id": "e0c6dcae",
   "metadata": {},
   "outputs": [],
   "source": [
    "# Adding word count feature for indication, findings and impression\n",
    "\n",
    "report_df_explode[\"indication_count\"] = (\n",
    "    report_df_explode[\"indication\"]\n",
    "    .astype(str)\n",
    "    .str.split()\n",
    "    .apply(lambda x: 0 if x == None else len(x))\n",
    ")\n",
    "report_df_explode[\"findings_count\"] = (\n",
    "    report_df_explode[\"findings\"]\n",
    "    .astype(str)\n",
    "    .str.split()\n",
    "    .apply(lambda x: 0 if x == None else len(x))\n",
    ")\n",
    "report_df_explode[\"impression_count\"] = (\n",
    "    report_df_explode[\"impression\"]\n",
    "    .astype(str)\n",
    "    .str.split()\n",
    "    .apply(lambda x: 0 if x == None else len(x))\n",
    ")\n",
    "report_df_explode.head()"
   ]
  },
  {
   "cell_type": "code",
   "execution_count": null,
   "id": "3e96db3b",
   "metadata": {},
   "outputs": [],
   "source": [
    "report_df_explode[\"impression\"] = (\n",
    "    report_df_explode[\"impression\"]\n",
    "    .astype(str)\n",
    "    .apply(lambda x: x + \".\" if x[-1] != \".\" else x)\n",
    ")"
   ]
  },
  {
   "cell_type": "code",
   "execution_count": null,
   "id": "369dbd4f",
   "metadata": {},
   "outputs": [],
   "source": [
    "# combine impression and findings\n",
    "report_df_explode[\"report\"] = (\n",
    "    report_df_explode[\"impression\"] + \" \" + report_df_explode[\"findings\"]\n",
    ")\n",
    "report_df_explode.head()"
   ]
  },
  {
   "cell_type": "code",
   "execution_count": null,
   "id": "758616c6",
   "metadata": {},
   "outputs": [],
   "source": [
    "reports_clean = report_df_explode[[\"id\", \"report\"]]\n",
    "reports_clean.head()"
   ]
  },
  {
   "cell_type": "code",
   "execution_count": null,
   "id": "153fd26d",
   "metadata": {},
   "outputs": [],
   "source": [
    "# save output impresion and findings\n",
    "reports_clean.to_csv(\"./reports_clean.csv\", header=False, index=False)"
   ]
  },
  {
   "cell_type": "code",
   "execution_count": null,
   "id": "746d1e5d",
   "metadata": {},
   "outputs": [],
   "source": [
    "reports_impression = report_df_explode[[\"id\", \"impression\"]]"
   ]
  },
  {
   "cell_type": "code",
   "execution_count": null,
   "id": "0920fb91",
   "metadata": {},
   "outputs": [],
   "source": [
    "# save output impression only\n",
    "reports_impression.to_csv(\"./reports_impression.csv\", header=False, index=False)"
   ]
  },
  {
   "cell_type": "code",
   "execution_count": null,
   "id": "d1ea7b80",
   "metadata": {},
   "outputs": [],
   "source": [
    "# These report files are then used the generate the CheXpert lables using the Stanford ML Group code\n",
    "# https://stanfordmlgroup.github.io/competitions/chexpert/"
   ]
  },
  {
   "cell_type": "code",
   "execution_count": null,
   "id": "108ed5a2",
   "metadata": {},
   "outputs": [],
   "source": [
    "# Create folder structure for IU data"
   ]
  },
  {
   "cell_type": "code",
   "execution_count": null,
   "id": "840027fb",
   "metadata": {},
   "outputs": [],
   "source": [
    "# Add a new column with images labled as .jpg instead of .png\n",
    "\n",
    "report_df_explode[\"image_name_jpg\"] = report_df_explode[\"image_name\"].str.replace(\n",
    "    \".png\", \".jpg\"\n",
    ")\n",
    "report_df_explode.head()"
   ]
  },
  {
   "cell_type": "code",
   "execution_count": null,
   "id": "2f237664",
   "metadata": {},
   "outputs": [],
   "source": [
    "# Create a new dataframe with just the id and image name\n",
    "\n",
    "image_id_name = report_df_explode[[\"id\", \"image_name_jpg\"]]\n",
    "image_id_name.head()"
   ]
  },
  {
   "cell_type": "code",
   "execution_count": null,
   "id": "ffe6e9aa",
   "metadata": {},
   "outputs": [],
   "source": [
    "# Convert png images to jpg\n",
    "output_loc = r\"../data/xray_images_jpg\"\n",
    "os.makedirs(output_loc, exist_ok=True)\n",
    "\n",
    "files_to_convert = (f for f in os.listdir(IMAGES_LOC) if f.endswith(\".png\"))\n",
    "for filename in files_to_convert:\n",
    "    im = Image.open(os.path.join(IMAGES_LOC, filename))\n",
    "    root, _ = os.path.splitext(filename)\n",
    "    jpg_file = os.path.join(output_loc, f\"{root}.jpg\")\n",
    "    im.save(jpg_file)"
   ]
  },
  {
   "cell_type": "code",
   "execution_count": null,
   "id": "1d32363b",
   "metadata": {},
   "outputs": [],
   "source": [
    "# Copy images to seperate files to replicate mimic folder structure\n",
    "# Note the folder structure is one layer less deep than mimic\n",
    "\n",
    "src_dir = \"../data/xray_images_jpg\"\n",
    "dst_dir = \"../data/xray\"\n",
    "\n",
    "# Seperate images out into their respective id folders\n",
    "for name, s in image_id_name.groupby(\"id\")[\"image_name_jpg\"]:\n",
    "    full_dir = os.path.join(dst_dir, name)\n",
    "    print(f\"copying {s.shape[0]} images from {src_dir} to {full_dir}\")\n",
    "    os.makedirs(full_dir, exist_ok=True)\n",
    "    for filename in s:\n",
    "        source = os.path.join(src_dir, filename)\n",
    "        shutil.copy(source, full_dir)"
   ]
  },
  {
   "cell_type": "code",
   "execution_count": null,
   "id": "c2ee3158",
   "metadata": {},
   "outputs": [],
   "source": [
    "# IU data charecteristics"
   ]
  },
  {
   "cell_type": "code",
   "execution_count": null,
   "id": "a0e70cd9",
   "metadata": {},
   "outputs": [],
   "source": [
    "# Look at the dataframe\n",
    "\n",
    "report_df_explode.head()"
   ]
  },
  {
   "cell_type": "code",
   "execution_count": null,
   "id": "60f22d47",
   "metadata": {},
   "outputs": [],
   "source": [
    "# Adding sentance count feature for findings\n",
    "\n",
    "report_df_explode[\"findings_sentance_count\"] = (\n",
    "    report_df_explode[\"findings\"]\n",
    "    .astype(str)\n",
    "    .str.split(\".\")\n",
    "    .apply(lambda x: 0 if x == None else len(x))\n",
    ")\n",
    "report_df_explode.head()"
   ]
  },
  {
   "cell_type": "code",
   "execution_count": null,
   "id": "c472fc74",
   "metadata": {},
   "outputs": [],
   "source": [
    "# Remove duplicate reports so as only to have one instance per patient\n",
    "\n",
    "report_df_dedup = report_df_explode.drop_duplicates(subset=\"id\", keep=\"first\")"
   ]
  },
  {
   "cell_type": "code",
   "execution_count": null,
   "id": "de28bc62",
   "metadata": {},
   "outputs": [],
   "source": [
    "# Printing min,max and median of word_count\n",
    "\n",
    "print(\n",
    "    \"Minimum number of word count for finding is:\",\n",
    "    np.min(report_df_dedup.findings_count.values),\n",
    ")\n",
    "print(\n",
    "    \"Maximum number of word count for finding is:\",\n",
    "    np.max(report_df_dedup.findings_count.values),\n",
    ")\n",
    "print(\n",
    "    \"Median number of word count for finding is:\",\n",
    "    np.median(report_df_dedup.findings_count.values),\n",
    ")"
   ]
  },
  {
   "cell_type": "code",
   "execution_count": null,
   "id": "e73a1595",
   "metadata": {},
   "outputs": [],
   "source": [
    "# Plotting top 50 frequent sentences of Findings feature\n",
    "\n",
    "sentences = report_df_dedup[\"findings\"].value_counts()[:50]\n",
    "plt.figure(figsize=(20, 5))\n",
    "sns.barplot(x=[el[:25] for el in sentences.index], y=sentences.values, alpha=0.8)\n",
    "plt.ylabel(\"Number of Occurrences\", fontsize=10)\n",
    "plt.xticks(fontsize=\"large\", rotation=90)\n",
    "plt.title(\"Findings-Unique sentences\")\n",
    "plt.show()"
   ]
  },
  {
   "cell_type": "code",
   "execution_count": null,
   "id": "60eb6399",
   "metadata": {
    "scrolled": true
   },
   "outputs": [],
   "source": [
    "# Plot a word cloud of the top 500 words that appear in findings\n",
    "\n",
    "wordcloud = WordCloud(\n",
    "    max_words=500, background_color=\"black\", colormap=\"Set3\"\n",
    ").generate(\" \".join(report_df_dedup[\"findings\"].astype(str)))\n",
    "plt.figure(figsize=(15, 10))\n",
    "plt.imshow(wordcloud, interpolation=\"Bilinear\")\n",
    "plt.axis(\"off\")\n",
    "plt.show()"
   ]
  },
  {
   "cell_type": "code",
   "execution_count": null,
   "id": "b7d09808",
   "metadata": {},
   "outputs": [],
   "source": [
    "# Printing min,max and median of word_count\n",
    "\n",
    "print(\n",
    "    \"Minimum number of word count for Impression is:\",\n",
    "    np.min(report_df_dedup.impression_count.values),\n",
    ")\n",
    "print(\n",
    "    \"Maximum number of word count for Impression is:\",\n",
    "    np.max(report_df_dedup.impression_count.values),\n",
    ")\n",
    "print(\n",
    "    \"Median number of word count for Impression is:\",\n",
    "    np.median(report_df_dedup.impression_count.values),\n",
    ")"
   ]
  },
  {
   "cell_type": "code",
   "execution_count": null,
   "id": "485aa8cf",
   "metadata": {},
   "outputs": [],
   "source": [
    "# Plotting top 50 frequent sentences of Impression feature\n",
    "\n",
    "sentences = report_df_dedup[\"impression\"].value_counts()[:50]\n",
    "plt.figure(figsize=(20, 5))\n",
    "sns.barplot(x=[el[:25] for el in sentences.index], y=sentences.values, alpha=0.8)\n",
    "plt.ylabel(\"Number of Occurrences\", fontsize=10)\n",
    "plt.xticks(fontsize=\"large\", rotation=90)\n",
    "plt.title(\"Impression-Unique sentences\")\n",
    "plt.show()"
   ]
  },
  {
   "cell_type": "code",
   "execution_count": null,
   "id": "681a955d",
   "metadata": {},
   "outputs": [],
   "source": [
    "# Plot a word cloud of the top 500 words that appear in findings\n",
    "\n",
    "wordcloud = WordCloud(\n",
    "    max_words=500, background_color=\"black\", colormap=\"Set3\"\n",
    ").generate(\" \".join(report_df_dedup[\"impression\"].astype(str)))\n",
    "plt.figure(figsize=(15, 10))\n",
    "plt.imshow(wordcloud, interpolation=\"Bilinear\")\n",
    "plt.axis(\"off\")\n",
    "plt.show()"
   ]
  },
  {
   "cell_type": "code",
   "execution_count": null,
   "id": "d76425ef",
   "metadata": {},
   "outputs": [],
   "source": [
    "# Show the 10 most common mesh terms\n",
    "\n",
    "mesh = report_df_dedup[\"mesh\"]\n",
    "p = Counter(\" \".join(mesh).split()).most_common(10)\n",
    "\n",
    "p"
   ]
  },
  {
   "cell_type": "code",
   "execution_count": null,
   "id": "46f17bb5",
   "metadata": {},
   "outputs": [],
   "source": [
    "# Show the unique mesh values\n",
    "\n",
    "report_df_dedup[\"mesh\"].unique().tolist()[:20]"
   ]
  },
  {
   "cell_type": "code",
   "execution_count": null,
   "id": "052e58a4",
   "metadata": {},
   "outputs": [],
   "source": [
    "# Show the 10 most common impression terms\n",
    "\n",
    "impression = report_df_dedup[\"impression\"]\n",
    "p = Counter(\" \".join(impression).split()).most_common(10)\n",
    "\n",
    "p"
   ]
  },
  {
   "cell_type": "code",
   "execution_count": null,
   "id": "34584967",
   "metadata": {},
   "outputs": [],
   "source": [
    "# Show the 10 most common finding terms\n",
    "\n",
    "finding = report_df_dedup[\"findings\"]\n",
    "p = Counter(\" \".join(finding).split()).most_common(10)\n",
    "\n",
    "p"
   ]
  },
  {
   "cell_type": "code",
   "execution_count": null,
   "id": "3424546c",
   "metadata": {},
   "outputs": [],
   "source": [
    "# Review images from IU dataset"
   ]
  },
  {
   "cell_type": "code",
   "execution_count": null,
   "id": "e283a689",
   "metadata": {},
   "outputs": [],
   "source": [
    "# Displaying sample 9 patient X-Ray\n",
    "fig, axs = plt.subplots(5, 5, figsize=(9, 9), tight_layout=True)\n",
    "for row, figure in zip(report_df_dedup[201:300].itertuples(), axs.flatten()):\n",
    "    image = mpimg.imread(IMAGES_LOC + \"/\" + row.image_name.split(\",\")[0])\n",
    "    figure.imshow(image)\n",
    "plt.show()"
   ]
  },
  {
   "cell_type": "code",
   "execution_count": null,
   "id": "58aa5020",
   "metadata": {},
   "outputs": [],
   "source": [
    "# Report figures"
   ]
  },
  {
   "cell_type": "code",
   "execution_count": null,
   "id": "27847568",
   "metadata": {},
   "outputs": [],
   "source": [
    "plt.rcParams[\"figure.figsize\"] = [10, 6]\n",
    "# df3['image_count'].value_counts().plot.bar()\n",
    "report_df_dedup.groupby(\"image_count\").size().plot.bar()\n",
    "plt.xlabel(\"Views per study\")\n",
    "plt.ylabel(\"Number of studies\")\n",
    "plt.savefig(\"./graph1.png\")"
   ]
  },
  {
   "cell_type": "code",
   "execution_count": null,
   "id": "89567a96",
   "metadata": {},
   "outputs": [],
   "source": [
    "# end of script"
   ]
  }
 ],
 "metadata": {
  "kernelspec": {
   "display_name": "Python 3",
   "language": "python",
   "name": "python3"
  },
  "language_info": {
   "codemirror_mode": {
    "name": "ipython",
    "version": 3
   },
   "file_extension": ".py",
   "mimetype": "text/x-python",
   "name": "python",
   "nbconvert_exporter": "python",
   "pygments_lexer": "ipython3",
   "version": "3.11.2"
  },
  "vscode": {
   "interpreter": {
    "hash": "aee8b7b246df8f9039afb4144a1f6fd8d2ca17a180786b69acc140d282b71a49"
   }
  }
 },
 "nbformat": 4,
 "nbformat_minor": 5
}
