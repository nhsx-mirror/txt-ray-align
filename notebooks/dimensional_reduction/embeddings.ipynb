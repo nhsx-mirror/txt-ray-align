{
 "cells": [
  {
   "cell_type": "code",
   "execution_count": null,
   "id": "7da12907",
   "metadata": {},
   "outputs": [],
   "source": [
    "# This is a test script for dimensional reduction work"
   ]
  },
  {
   "cell_type": "code",
   "execution_count": null,
   "id": "f85692f0",
   "metadata": {},
   "outputs": [],
   "source": [
    "import csv\n",
    "import glob\n",
    "\n",
    "import pandas as pd\n",
    "import numpy as np\n",
    "from sklearn.decomposition import PCA\n",
    "import matplotlib.pyplot as plt\n",
    "\n",
    "%matplotlib inline"
   ]
  },
  {
   "cell_type": "code",
   "execution_count": null,
   "id": "2a39cea8",
   "metadata": {},
   "outputs": [],
   "source": [
    "IMG_EMB_LOC = \"<...>\"\n",
    "SECTIONED_REPORTS_LOC = \"<...>\"\n",
    "CHEXPERT_LABELS_LOC = \"<...>\""
   ]
  },
  {
   "cell_type": "code",
   "execution_count": null,
   "id": "6a79d42d",
   "metadata": {},
   "outputs": [],
   "source": [
    "# read pickle file of image embeddings as dataframe\n",
    "df = pd.read_pickle(IMG_EMB_LOC)\n",
    "\n",
    "target = df[[\"target\"]]\n",
    "target = target.drop_duplicates(subset=[\"target\"])\n",
    "\n",
    "target.to_csv(\"./target.csv\")"
   ]
  },
  {
   "cell_type": "code",
   "execution_count": null,
   "id": "68e35116",
   "metadata": {},
   "outputs": [],
   "source": [
    "embeds = df[[\"embs\"]]\n",
    "print(embeds.dtypes)\n",
    "print(embeds.shape)\n",
    "\n",
    "embed_tmp = pd.DataFrame(np.stack(embeds.embs.to_list(), axis=1).T)\n",
    "\n",
    "embed_tmp.to_csv(\"./embs_temp.csv\")"
   ]
  },
  {
   "cell_type": "code",
   "execution_count": null,
   "id": "960901d6",
   "metadata": {},
   "outputs": [],
   "source": [
    "pca = PCA(n_components=2)\n",
    "principal_components = pca.fit_transform(embed_tmp)\n",
    "\n",
    "principal_df = pd.DataFrame(\n",
    "    data=principal_components,\n",
    "    columns=[\"principal component 1\", \"principal component 2\"],\n",
    ")\n",
    "\n",
    "principal_df"
   ]
  },
  {
   "cell_type": "code",
   "execution_count": null,
   "id": "7fdbae71",
   "metadata": {},
   "outputs": [],
   "source": [
    "explained_variance = pca.explained_variance_ratio_\n",
    "explained_variance"
   ]
  },
  {
   "cell_type": "code",
   "execution_count": null,
   "id": "71f1d126",
   "metadata": {},
   "outputs": [],
   "source": [
    "final_df = pd.concat([principal_df, df[[\"study_id\"]]], axis=1)\n",
    "\n",
    "final_df_plot = final_df.assign(study_id=\"tar\")\n",
    "\n",
    "final_df_plot"
   ]
  },
  {
   "cell_type": "code",
   "execution_count": null,
   "id": "2f5b033a",
   "metadata": {},
   "outputs": [],
   "source": [
    "fig = plt.figure(figsize=(8, 8))\n",
    "\n",
    "ax = fig.add_subplot(1, 1, 1)\n",
    "\n",
    "ax.set_xlabel(\"Principal Component 1\", fontsize=15)\n",
    "ax.set_ylabel(\"Principal Component 2\", fontsize=15)\n",
    "ax.set_title(\"2 component PCA\", fontsize=20)\n",
    "\n",
    "targets = [\"tar\", \"xxx\", \"ttt\"]\n",
    "colors = [\"r\", \"g\", \"b\"]\n",
    "\n",
    "for target, color in zip(targets, colors):\n",
    "    indicesToKeep = final_df_plot[\"study_id\"] == target\n",
    "    ax.scatter(\n",
    "        final_df_plot.loc[indicesToKeep, \"principal component 1\"],\n",
    "        final_df_plot.loc[indicesToKeep, \"principal component 2\"],\n",
    "        c=color,\n",
    "        s=40,\n",
    "    )\n",
    "\n",
    "ax.legend(targets)\n",
    "ax.grid()"
   ]
  },
  {
   "attachments": {},
   "cell_type": "markdown",
   "id": "bc480db5",
   "metadata": {},
   "source": [
    "Sectioned Reports"
   ]
  },
  {
   "cell_type": "code",
   "execution_count": null,
   "id": "da6cd5af",
   "metadata": {},
   "outputs": [],
   "source": [
    "section_files = glob.glob(SECTIONED_REPORTS_LOC + \"/*.csv\")\n",
    "\n",
    "li = []\n",
    "for filename in section_files:\n",
    "    temp_df = pd.read_csv(filename, index_col=None, header=None)\n",
    "    li.append(temp_df)\n",
    "\n",
    "sectioned_df = pd.concat(li, axis=0, ignore_index=True)\n",
    "sectioned_df.columns = [\"study_id\", \"outcome\"]\n",
    "\n",
    "sectioned_df"
   ]
  },
  {
   "cell_type": "code",
   "execution_count": null,
   "id": "94727c45",
   "metadata": {},
   "outputs": [],
   "source": [
    "merged_inner_df = pd.merge(\n",
    "    left=final_df, right=sectioned_df, left_on=\"study_id\", right_on=\"study_id\"\n",
    ")\n",
    "merged_inner_df"
   ]
  },
  {
   "attachments": {},
   "cell_type": "markdown",
   "id": "eacce99b",
   "metadata": {},
   "source": [
    "Chexpert Labels"
   ]
  },
  {
   "cell_type": "code",
   "execution_count": null,
   "id": "8ecb5e3f",
   "metadata": {},
   "outputs": [],
   "source": [
    "chex_files = glob.glob(CHEXPERT_LABELS_LOC + \"/*.csv\")\n",
    "li = []\n",
    "\n",
    "for filename in chex_files:\n",
    "    temp_df = pd.read_csv(filename, index_col=None)\n",
    "    li.append(temp_df)\n",
    "\n",
    "chex_df = pd.concat(li, axis=0, ignore_index=True)\n",
    "chex_df"
   ]
  },
  {
   "cell_type": "code",
   "execution_count": null,
   "id": "f2a8ae1b",
   "metadata": {},
   "outputs": [],
   "source": [
    "merged_inner_df = pd.merge(\n",
    "    left=final_df, right=chex_df, left_on=\"study_id\", right_on=\"mimic_id\"\n",
    ")\n",
    "merged_inner_df"
   ]
  },
  {
   "cell_type": "code",
   "execution_count": null,
   "id": "e3a78c6f",
   "metadata": {},
   "outputs": [],
   "source": [
    "fig = plt.figure(figsize=(8, 8))\n",
    "\n",
    "ax = fig.add_subplot(1, 1, 1)\n",
    "\n",
    "ax.set_xlabel(\"Principal Component 1\", fontsize=15)\n",
    "ax.set_ylabel(\"Principal Component 2\", fontsize=15)\n",
    "ax.set_title(\"2 component PCA\", fontsize=20)\n",
    "\n",
    "targets = [\"Pleural Effusion\", \"Edema\", \"Pneumonia\"]\n",
    "colors = [\"r\", \"g\", \"b\"]\n",
    "\n",
    "for target, color in zip(targets, colors):\n",
    "    indicesToKeep = merged_inner_df[\"cat\"] == target\n",
    "    ax.scatter(\n",
    "        merged_inner_df.loc[indicesToKeep, \"principal component 1\"],\n",
    "        merged_inner_df.loc[indicesToKeep, \"principal component 2\"],\n",
    "        c=color,\n",
    "        s=40,\n",
    "    )\n",
    "\n",
    "ax.legend(targets)\n",
    "ax.grid()"
   ]
  },
  {
   "cell_type": "code",
   "execution_count": null,
   "id": "d6c80ea3",
   "metadata": {},
   "outputs": [],
   "source": [
    "id_cat_df = merged_inner_df[[\"study_id\", \"cat\"]]\n",
    "id_cat_df.to_csv(\"./anon.csv\")"
   ]
  },
  {
   "cell_type": "code",
   "execution_count": null,
   "id": "7fac0284",
   "metadata": {},
   "outputs": [],
   "source": [
    "# end of script"
   ]
  }
 ],
 "metadata": {
  "kernelspec": {
   "display_name": "auto_image_text",
   "language": "python",
   "name": "python3"
  },
  "language_info": {
   "codemirror_mode": {
    "name": "ipython",
    "version": 3
   },
   "file_extension": ".py",
   "mimetype": "text/x-python",
   "name": "python",
   "nbconvert_exporter": "python",
   "pygments_lexer": "ipython3",
   "version": "3.6.7"
  },
  "vscode": {
   "interpreter": {
    "hash": "40bf9bd58886b85fc87c7221a1a2c68d8258688dc11a2f0ccfcd529120dcc821"
   }
  }
 },
 "nbformat": 4,
 "nbformat_minor": 5
}
